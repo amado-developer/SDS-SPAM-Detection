{
 "cells": [
  {
   "cell_type": "code",
   "execution_count": 86,
   "metadata": {},
   "outputs": [],
   "source": [
    "import pandas as pd\n",
    "import numpy as np\n",
    "from sklearn.naive_bayes import MultinomialNB\n",
    "from sklearn import metrics\n",
    "\n",
    "bog = pd.read_csv('Bog.csv')\n",
    "tf_idf = pd.read_csv('tf_idf.csv')"
   ]
  },
  {
   "cell_type": "markdown",
   "metadata": {},
   "source": [
    "### Modelo para Bag of Words ( n = 1, 2)\n",
    "Se realiza el respectivo modelo NaiveBayes para el conjunto de datos realizado con la tecnica Bag of Words para n = 1, 2."
   ]
  },
  {
   "cell_type": "code",
   "execution_count": 87,
   "metadata": {},
   "outputs": [
    {
     "data": {
      "text/html": [
       "<div>\n",
       "<style scoped>\n",
       "    .dataframe tbody tr th:only-of-type {\n",
       "        vertical-align: middle;\n",
       "    }\n",
       "\n",
       "    .dataframe tbody tr th {\n",
       "        vertical-align: top;\n",
       "    }\n",
       "\n",
       "    .dataframe thead th {\n",
       "        text-align: right;\n",
       "    }\n",
       "</style>\n",
       "<table border=\"1\" class=\"dataframe\">\n",
       "  <thead>\n",
       "    <tr style=\"text-align: right;\">\n",
       "      <th></th>\n",
       "      <th>00</th>\n",
       "      <th>000</th>\n",
       "      <th>01</th>\n",
       "      <th>02</th>\n",
       "      <th>05</th>\n",
       "      <th>08</th>\n",
       "      <th>09</th>\n",
       "      <th>10</th>\n",
       "      <th>100</th>\n",
       "      <th>11</th>\n",
       "      <th>...</th>\n",
       "      <th>work</th>\n",
       "      <th>working</th>\n",
       "      <th>world</th>\n",
       "      <th>would</th>\n",
       "      <th>would like</th>\n",
       "      <th>wrote</th>\n",
       "      <th>www</th>\n",
       "      <th>year</th>\n",
       "      <th>years</th>\n",
       "      <th>Label</th>\n",
       "    </tr>\n",
       "  </thead>\n",
       "  <tbody>\n",
       "    <tr>\n",
       "      <th>0</th>\n",
       "      <td>0</td>\n",
       "      <td>0</td>\n",
       "      <td>0</td>\n",
       "      <td>0</td>\n",
       "      <td>0</td>\n",
       "      <td>0</td>\n",
       "      <td>0</td>\n",
       "      <td>0</td>\n",
       "      <td>0</td>\n",
       "      <td>0</td>\n",
       "      <td>...</td>\n",
       "      <td>0</td>\n",
       "      <td>0</td>\n",
       "      <td>0</td>\n",
       "      <td>0</td>\n",
       "      <td>0</td>\n",
       "      <td>0</td>\n",
       "      <td>0</td>\n",
       "      <td>0</td>\n",
       "      <td>0</td>\n",
       "      <td>1</td>\n",
       "    </tr>\n",
       "    <tr>\n",
       "      <th>1</th>\n",
       "      <td>0</td>\n",
       "      <td>0</td>\n",
       "      <td>0</td>\n",
       "      <td>0</td>\n",
       "      <td>0</td>\n",
       "      <td>0</td>\n",
       "      <td>0</td>\n",
       "      <td>1</td>\n",
       "      <td>0</td>\n",
       "      <td>0</td>\n",
       "      <td>...</td>\n",
       "      <td>0</td>\n",
       "      <td>0</td>\n",
       "      <td>0</td>\n",
       "      <td>0</td>\n",
       "      <td>0</td>\n",
       "      <td>0</td>\n",
       "      <td>7</td>\n",
       "      <td>0</td>\n",
       "      <td>0</td>\n",
       "      <td>1</td>\n",
       "    </tr>\n",
       "    <tr>\n",
       "      <th>2</th>\n",
       "      <td>0</td>\n",
       "      <td>0</td>\n",
       "      <td>0</td>\n",
       "      <td>0</td>\n",
       "      <td>0</td>\n",
       "      <td>0</td>\n",
       "      <td>0</td>\n",
       "      <td>1</td>\n",
       "      <td>0</td>\n",
       "      <td>0</td>\n",
       "      <td>...</td>\n",
       "      <td>0</td>\n",
       "      <td>0</td>\n",
       "      <td>0</td>\n",
       "      <td>0</td>\n",
       "      <td>0</td>\n",
       "      <td>0</td>\n",
       "      <td>6</td>\n",
       "      <td>0</td>\n",
       "      <td>0</td>\n",
       "      <td>1</td>\n",
       "    </tr>\n",
       "    <tr>\n",
       "      <th>3</th>\n",
       "      <td>0</td>\n",
       "      <td>0</td>\n",
       "      <td>0</td>\n",
       "      <td>1</td>\n",
       "      <td>0</td>\n",
       "      <td>1</td>\n",
       "      <td>0</td>\n",
       "      <td>0</td>\n",
       "      <td>0</td>\n",
       "      <td>0</td>\n",
       "      <td>...</td>\n",
       "      <td>0</td>\n",
       "      <td>0</td>\n",
       "      <td>0</td>\n",
       "      <td>0</td>\n",
       "      <td>0</td>\n",
       "      <td>0</td>\n",
       "      <td>0</td>\n",
       "      <td>0</td>\n",
       "      <td>1</td>\n",
       "      <td>1</td>\n",
       "    </tr>\n",
       "    <tr>\n",
       "      <th>4</th>\n",
       "      <td>0</td>\n",
       "      <td>0</td>\n",
       "      <td>0</td>\n",
       "      <td>0</td>\n",
       "      <td>0</td>\n",
       "      <td>0</td>\n",
       "      <td>0</td>\n",
       "      <td>1</td>\n",
       "      <td>0</td>\n",
       "      <td>0</td>\n",
       "      <td>...</td>\n",
       "      <td>0</td>\n",
       "      <td>0</td>\n",
       "      <td>0</td>\n",
       "      <td>0</td>\n",
       "      <td>0</td>\n",
       "      <td>0</td>\n",
       "      <td>5</td>\n",
       "      <td>0</td>\n",
       "      <td>0</td>\n",
       "      <td>1</td>\n",
       "    </tr>\n",
       "  </tbody>\n",
       "</table>\n",
       "<p>5 rows × 267 columns</p>\n",
       "</div>"
      ],
      "text/plain": [
       "   00  000  01  02  05  08  09  10  100  11  ...  work  working  world  would  \\\n",
       "0   0    0   0   0   0   0   0   0    0   0  ...     0        0      0      0   \n",
       "1   0    0   0   0   0   0   0   1    0   0  ...     0        0      0      0   \n",
       "2   0    0   0   0   0   0   0   1    0   0  ...     0        0      0      0   \n",
       "3   0    0   0   1   0   1   0   0    0   0  ...     0        0      0      0   \n",
       "4   0    0   0   0   0   0   0   1    0   0  ...     0        0      0      0   \n",
       "\n",
       "   would like  wrote  www  year  years  Label  \n",
       "0           0      0    0     0      0      1  \n",
       "1           0      0    7     0      0      1  \n",
       "2           0      0    6     0      0      1  \n",
       "3           0      0    0     0      1      1  \n",
       "4           0      0    5     0      0      1  \n",
       "\n",
       "[5 rows x 267 columns]"
      ]
     },
     "execution_count": 87,
     "metadata": {},
     "output_type": "execute_result"
    }
   ],
   "source": [
    "bog.head()"
   ]
  },
  {
   "cell_type": "code",
   "execution_count": 88,
   "metadata": {},
   "outputs": [],
   "source": [
    "#Division en sets de train y test\n",
    "bog_train, bog_test = np.split(bog.sample(frac=1, random_state=30), [int(.7*len(bog))])"
   ]
  },
  {
   "cell_type": "code",
   "execution_count": 89,
   "metadata": {},
   "outputs": [],
   "source": [
    "#Separacion de target y features para los conjuntos de test y train.\n",
    "target_bog_train = bog_train['Label']\n",
    "feature_bog_train = bog_train.drop(['Label'], axis = 1)\n",
    "\n",
    "target_bog_test = bog_test['Label']\n",
    "feature_bog_test = bog_test.drop(['Label'], axis = 1)"
   ]
  },
  {
   "cell_type": "code",
   "execution_count": 90,
   "metadata": {},
   "outputs": [
    {
     "data": {
      "text/plain": [
       "MultinomialNB()"
      ]
     },
     "execution_count": 90,
     "metadata": {},
     "output_type": "execute_result"
    }
   ],
   "source": [
    "#Creacion del modelo\n",
    "naiveBB = MultinomialNB()\n",
    "naiveBB.fit(feature_bog_train, target_bog_train)"
   ]
  },
  {
   "cell_type": "code",
   "execution_count": 91,
   "metadata": {},
   "outputs": [
    {
     "name": "stdout",
     "output_type": "stream",
     "text": [
      "El valor de accuracy con la data de entrenamiento es de:  0.8551460113960114\n"
     ]
    }
   ],
   "source": [
    "#Prueba para el conjunto de entrenamiento, esto se hace para luego comprar resultados con el conjunto de test y determinar si hay overfitting o no.\n",
    "bog_predict_train = naiveBB.predict(feature_bog_train)\n",
    "print(\"El valor de accuracy con la data de entrenamiento es de: \", metrics.accuracy_score(target_bog_train, bog_predict_train))"
   ]
  },
  {
   "cell_type": "code",
   "execution_count": 92,
   "metadata": {},
   "outputs": [
    {
     "name": "stdout",
     "output_type": "stream",
     "text": [
      "El valor de accuracy con la data de entrenamiento es de:  0.8568757789779808\n"
     ]
    }
   ],
   "source": [
    "#Prueba sobre conjunto de test y obtencion de metricas varias.\n",
    "bog_predict_test = naiveBB.predict(feature_bog_test)\n",
    "print(\"El valor de accuracy con la data de entrenamiento es de: \", metrics.accuracy_score(target_bog_test, bog_predict_test))"
   ]
  },
  {
   "cell_type": "code",
   "execution_count": 93,
   "metadata": {},
   "outputs": [
    {
     "name": "stdout",
     "output_type": "stream",
     "text": [
      "              precision    recall  f1-score   support\n",
      "\n",
      "       Legit       0.88      0.87      0.87      2784\n",
      "        SPAM       0.82      0.84      0.83      2030\n",
      "\n",
      "    accuracy                           0.86      4814\n",
      "   macro avg       0.85      0.86      0.85      4814\n",
      "weighted avg       0.86      0.86      0.86      4814\n",
      "\n"
     ]
    }
   ],
   "source": [
    "print(metrics.classification_report(target_bog_test, bog_predict_test, target_names=[\"Legit\", \"SPAM\"]))"
   ]
  },
  {
   "cell_type": "code",
   "execution_count": 94,
   "metadata": {},
   "outputs": [
    {
     "data": {
      "text/plain": [
       "<sklearn.metrics._plot.precision_recall_curve.PrecisionRecallDisplay at 0x2a8be4a8>"
      ]
     },
     "execution_count": 94,
     "metadata": {},
     "output_type": "execute_result"
    },
    {
     "data": {
      "image/png": "[encoded data removed]",
      "text/plain": [
       "<Figure size 432x288 with 1 Axes>"
      ]
     },
     "metadata": {
      "needs_background": "light"
     },
     "output_type": "display_data"
    }
   ],
   "source": [
    "metrics.plot_precision_recall_curve(naiveBB, feature_bog_test, target_bog_test)"
   ]
  },
  {
   "cell_type": "markdown",
   "metadata": {},
   "source": [
    "Podemos ver que el modelo para la tecnica Bag Of Words es bastante bueno pero tiene ciertas fallas, este llega a tener un accuracy de 0.856 para al conjunto de test, al comparar este dato con el obtenido para la prediccion del conjunto de train nos podemos dar cuenta que el modelo no tiene overfittin, esto ya que el valor del accuracy del conjunto de test es incluso mayor al obtenido con el conjunto training, el cual fue de 0.855, lo que nos indica que no se sobre ajusto a los datos del conjunto de training.\n",
    "\n",
    "Adicionalmente todos los valores de precision, recall y F1 nos indican que el modelo es considerablemente aceptable para nuestro caso de uso. Sin duda alguna el indicador de mas interes en este caso es el de los verdaderos positivos, es decir el recall cuyo valor es el mas alto al tratarse de sitios legitimos pero es el mas bajo al tratarse de SPAM. Esto quiere decir que es mas efectivo identificando si un correo es legitimo que identificando si es SPAM. Esto nos trae a la luz que el modelo puede ser suseptible a falsos negativos, lo cual es el worst-case-scenario en este tipo de situaciones ya que pone en peligro la informacion del usuario. Para este modelo los valores mas bajos de precision, recall y F1 sucedieron en los casos de SPAM, esto nos da a entender que al modelo se le complica un poco delimitar si un correo es SPAM, y puede llegar a caer en falsos positivos y falsos negativos."
   ]
  },
  {
   "cell_type": "markdown",
   "metadata": {},
   "source": [
    "### Modelo para TF-IDF\n",
    "Se realiza el respectivo modelo NaiveBayes para el conjunto de datos realizado con la tecnica TF-IDF."
   ]
  },
  {
   "cell_type": "code",
   "execution_count": 95,
   "metadata": {},
   "outputs": [
    {
     "data": {
      "text/html": [
       "<div>\n",
       "<style scoped>\n",
       "    .dataframe tbody tr th:only-of-type {\n",
       "        vertical-align: middle;\n",
       "    }\n",
       "\n",
       "    .dataframe tbody tr th {\n",
       "        vertical-align: top;\n",
       "    }\n",
       "\n",
       "    .dataframe thead th {\n",
       "        text-align: right;\n",
       "    }\n",
       "</style>\n",
       "<table border=\"1\" class=\"dataframe\">\n",
       "  <thead>\n",
       "    <tr style=\"text-align: right;\">\n",
       "      <th></th>\n",
       "      <th>00</th>\n",
       "      <th>000</th>\n",
       "      <th>01</th>\n",
       "      <th>02</th>\n",
       "      <th>05</th>\n",
       "      <th>08</th>\n",
       "      <th>09</th>\n",
       "      <th>10</th>\n",
       "      <th>100</th>\n",
       "      <th>11</th>\n",
       "      <th>...</th>\n",
       "      <th>without</th>\n",
       "      <th>work</th>\n",
       "      <th>working</th>\n",
       "      <th>world</th>\n",
       "      <th>would</th>\n",
       "      <th>wrote</th>\n",
       "      <th>www</th>\n",
       "      <th>year</th>\n",
       "      <th>years</th>\n",
       "      <th>Label</th>\n",
       "    </tr>\n",
       "  </thead>\n",
       "  <tbody>\n",
       "    <tr>\n",
       "      <th>0</th>\n",
       "      <td>0.0</td>\n",
       "      <td>0.0</td>\n",
       "      <td>0.0</td>\n",
       "      <td>0.00</td>\n",
       "      <td>0.0</td>\n",
       "      <td>0.00</td>\n",
       "      <td>0.0</td>\n",
       "      <td>0.00</td>\n",
       "      <td>0.0</td>\n",
       "      <td>0.0</td>\n",
       "      <td>...</td>\n",
       "      <td>0.0</td>\n",
       "      <td>0.0</td>\n",
       "      <td>0.0</td>\n",
       "      <td>0.0</td>\n",
       "      <td>0.0</td>\n",
       "      <td>0.0</td>\n",
       "      <td>0.00</td>\n",
       "      <td>0.0</td>\n",
       "      <td>0.00</td>\n",
       "      <td>1</td>\n",
       "    </tr>\n",
       "    <tr>\n",
       "      <th>1</th>\n",
       "      <td>0.0</td>\n",
       "      <td>0.0</td>\n",
       "      <td>0.0</td>\n",
       "      <td>0.00</td>\n",
       "      <td>0.0</td>\n",
       "      <td>0.00</td>\n",
       "      <td>0.0</td>\n",
       "      <td>0.07</td>\n",
       "      <td>0.0</td>\n",
       "      <td>0.0</td>\n",
       "      <td>...</td>\n",
       "      <td>0.0</td>\n",
       "      <td>0.0</td>\n",
       "      <td>0.0</td>\n",
       "      <td>0.0</td>\n",
       "      <td>0.0</td>\n",
       "      <td>0.0</td>\n",
       "      <td>0.46</td>\n",
       "      <td>0.0</td>\n",
       "      <td>0.00</td>\n",
       "      <td>1</td>\n",
       "    </tr>\n",
       "    <tr>\n",
       "      <th>2</th>\n",
       "      <td>0.0</td>\n",
       "      <td>0.0</td>\n",
       "      <td>0.0</td>\n",
       "      <td>0.00</td>\n",
       "      <td>0.0</td>\n",
       "      <td>0.00</td>\n",
       "      <td>0.0</td>\n",
       "      <td>0.11</td>\n",
       "      <td>0.0</td>\n",
       "      <td>0.0</td>\n",
       "      <td>...</td>\n",
       "      <td>0.0</td>\n",
       "      <td>0.0</td>\n",
       "      <td>0.0</td>\n",
       "      <td>0.0</td>\n",
       "      <td>0.0</td>\n",
       "      <td>0.0</td>\n",
       "      <td>0.61</td>\n",
       "      <td>0.0</td>\n",
       "      <td>0.00</td>\n",
       "      <td>1</td>\n",
       "    </tr>\n",
       "    <tr>\n",
       "      <th>3</th>\n",
       "      <td>0.0</td>\n",
       "      <td>0.0</td>\n",
       "      <td>0.0</td>\n",
       "      <td>0.07</td>\n",
       "      <td>0.0</td>\n",
       "      <td>0.07</td>\n",
       "      <td>0.0</td>\n",
       "      <td>0.00</td>\n",
       "      <td>0.0</td>\n",
       "      <td>0.0</td>\n",
       "      <td>...</td>\n",
       "      <td>0.0</td>\n",
       "      <td>0.0</td>\n",
       "      <td>0.0</td>\n",
       "      <td>0.0</td>\n",
       "      <td>0.0</td>\n",
       "      <td>0.0</td>\n",
       "      <td>0.00</td>\n",
       "      <td>0.0</td>\n",
       "      <td>0.07</td>\n",
       "      <td>1</td>\n",
       "    </tr>\n",
       "    <tr>\n",
       "      <th>4</th>\n",
       "      <td>0.0</td>\n",
       "      <td>0.0</td>\n",
       "      <td>0.0</td>\n",
       "      <td>0.00</td>\n",
       "      <td>0.0</td>\n",
       "      <td>0.00</td>\n",
       "      <td>0.0</td>\n",
       "      <td>0.08</td>\n",
       "      <td>0.0</td>\n",
       "      <td>0.0</td>\n",
       "      <td>...</td>\n",
       "      <td>0.0</td>\n",
       "      <td>0.0</td>\n",
       "      <td>0.0</td>\n",
       "      <td>0.0</td>\n",
       "      <td>0.0</td>\n",
       "      <td>0.0</td>\n",
       "      <td>0.36</td>\n",
       "      <td>0.0</td>\n",
       "      <td>0.00</td>\n",
       "      <td>1</td>\n",
       "    </tr>\n",
       "  </tbody>\n",
       "</table>\n",
       "<p>5 rows × 258 columns</p>\n",
       "</div>"
      ],
      "text/plain": [
       "    00  000   01    02   05    08   09    10  100   11  ...  without  work  \\\n",
       "0  0.0  0.0  0.0  0.00  0.0  0.00  0.0  0.00  0.0  0.0  ...      0.0   0.0   \n",
       "1  0.0  0.0  0.0  0.00  0.0  0.00  0.0  0.07  0.0  0.0  ...      0.0   0.0   \n",
       "2  0.0  0.0  0.0  0.00  0.0  0.00  0.0  0.11  0.0  0.0  ...      0.0   0.0   \n",
       "3  0.0  0.0  0.0  0.07  0.0  0.07  0.0  0.00  0.0  0.0  ...      0.0   0.0   \n",
       "4  0.0  0.0  0.0  0.00  0.0  0.00  0.0  0.08  0.0  0.0  ...      0.0   0.0   \n",
       "\n",
       "   working  world  would  wrote   www  year  years  Label  \n",
       "0      0.0    0.0    0.0    0.0  0.00   0.0   0.00      1  \n",
       "1      0.0    0.0    0.0    0.0  0.46   0.0   0.00      1  \n",
       "2      0.0    0.0    0.0    0.0  0.61   0.0   0.00      1  \n",
       "3      0.0    0.0    0.0    0.0  0.00   0.0   0.07      1  \n",
       "4      0.0    0.0    0.0    0.0  0.36   0.0   0.00      1  \n",
       "\n",
       "[5 rows x 258 columns]"
      ]
     },
     "execution_count": 95,
     "metadata": {},
     "output_type": "execute_result"
    }
   ],
   "source": [
    "tf_idf.head()"
   ]
  },
  {
   "cell_type": "code",
   "execution_count": 96,
   "metadata": {},
   "outputs": [],
   "source": [
    "#Division en sets de train y test\n",
    "tf_idf_train, tf_idf_test = np.split(tf_idf.sample(frac=1, random_state=30), [int(.7*len(tf_idf))])"
   ]
  },
  {
   "cell_type": "code",
   "execution_count": 97,
   "metadata": {},
   "outputs": [],
   "source": [
    "#Separacion de target y features para los conjuntos de test y train.\n",
    "target_tf_idf_train = tf_idf_train['Label']\n",
    "feature_tf_idf_train = tf_idf_train.drop(['Label'], axis = 1)\n",
    "\n",
    "target_tf_idf_test = tf_idf_test['Label']\n",
    "feature_tf_idf_test = tf_idf_test.drop(['Label'], axis = 1)"
   ]
  },
  {
   "cell_type": "code",
   "execution_count": 98,
   "metadata": {},
   "outputs": [
    {
     "data": {
      "text/plain": [
       "MultinomialNB()"
      ]
     },
     "execution_count": 98,
     "metadata": {},
     "output_type": "execute_result"
    }
   ],
   "source": [
    "#Creacion del modelo\n",
    "naive_tf_idf = MultinomialNB()\n",
    "naive_tf_idf.fit(feature_tf_idf_train, target_tf_idf_train)"
   ]
  },
  {
   "cell_type": "code",
   "execution_count": 99,
   "metadata": {},
   "outputs": [
    {
     "name": "stdout",
     "output_type": "stream",
     "text": [
      "El valor de accuracy con la data de entrenamiento es de:  0.8805199430199431\n"
     ]
    }
   ],
   "source": [
    "#Prueba para el conjunto de entrenamiento, esto se hace para luego comprar resultados con el conjunto de test y determinar si hay overfitting o no.\n",
    "tf_idf_predict_train = naive_tf_idf.predict(feature_tf_idf_train)\n",
    "print(\"El valor de accuracy con la data de entrenamiento es de: \", metrics.accuracy_score(target_tf_idf_train, tf_idf_predict_train))"
   ]
  },
  {
   "cell_type": "code",
   "execution_count": 100,
   "metadata": {},
   "outputs": [
    {
     "name": "stdout",
     "output_type": "stream",
     "text": [
      "El valor de accuracy con la data de entrenamiento es de:  0.8818030743664312\n"
     ]
    }
   ],
   "source": [
    "#Prueba sobre conjunto de test y obtencion de metricas varias.\n",
    "tf_idf_predict_test = naive_tf_idf.predict(feature_tf_idf_test)\n",
    "print(\"El valor de accuracy con la data de entrenamiento es de: \", metrics.accuracy_score(target_tf_idf_test, tf_idf_predict_test))"
   ]
  },
  {
   "cell_type": "code",
   "execution_count": 101,
   "metadata": {},
   "outputs": [
    {
     "name": "stdout",
     "output_type": "stream",
     "text": [
      "              precision    recall  f1-score   support\n",
      "\n",
      "       Legit       0.88      0.91      0.90      2784\n",
      "        SPAM       0.88      0.84      0.86      2030\n",
      "\n",
      "    accuracy                           0.88      4814\n",
      "   macro avg       0.88      0.88      0.88      4814\n",
      "weighted avg       0.88      0.88      0.88      4814\n",
      "\n"
     ]
    }
   ],
   "source": [
    "print(metrics.classification_report(target_tf_idf_test, tf_idf_predict_test, target_names=[\"Legit\", \"SPAM\"]))"
   ]
  },
  {
   "cell_type": "code",
   "execution_count": 102,
   "metadata": {},
   "outputs": [
    {
     "data": {
      "text/plain": [
       "<sklearn.metrics._plot.precision_recall_curve.PrecisionRecallDisplay at 0x151f6178>"
      ]
     },
     "execution_count": 102,
     "metadata": {},
     "output_type": "execute_result"
    },
    {
     "data": {
      "image/png": "[encoded data removed]",
      "text/plain": [
       "<Figure size 432x288 with 1 Axes>"
      ]
     },
     "metadata": {
      "needs_background": "light"
     },
     "output_type": "display_data"
    }
   ],
   "source": [
    "metrics.plot_precision_recall_curve(naive_tf_idf, feature_tf_idf_test, target_tf_idf_test)"
   ]
  },
  {
   "cell_type": "markdown",
   "metadata": {},
   "source": [
    "Podemos ver que el modelo realizado con TF_IDF tiene una clara mejoria en relacion al anterior ya que su accuracy es de 0.881, primero comenzamos realizando el analisis de sobre ajuste y delimitamos que no hay ya que el accuracy del conjunto de train y test son bastante cercanos, lo que nos indica que el modelo no esta sobre ajustado a los datos del conjunto de training.\n",
    "\n",
    "Luego vemos una clara mejoria en los valores de precision, recall y F1 en comparacion al modelo anterior, apesar de que los valores relacionados a los datos de SPAM sigen siendo los mas bajos estos aun pueden considerarse aceptables. En este modelo el riesgo de generar falsos negativos disminuye considerablemente, por lo que se le puede considerar el mejor modelo entre ambos realizados."
   ]
  },
  {
   "cell_type": "markdown",
   "metadata": {},
   "source": [
    "## Conclusiones"
   ]
  },
  {
   "cell_type": "markdown",
   "metadata": {},
   "source": [
    "- El mejor modelo generado fue donde se utilizo TF_IDF, este genero un mayor valor de accuracy ante el modelo generado a partir de la tecnica Bag Of Words\n",
    "- Los valores de precision en este modelo fueron bastante aceptables tanto para el caso de los correos legitimos y los correos clasificados como SPAM.\n",
    "- En el caso del recall el valor de aquellos correos legitimos es mas alto que el de los de SPAM, esto puede representar un riesgo de falsos negativos en nuestra prediccion, el cual es el Worst-Case para este tipo de problemas.\n",
    "- Finalmente el F1 tiene un valor muy aceptable en ambos casos, este valor nos sirve para encontrar un balance entre presicion y recall y nos ayuda a determinar la cantidad de falsos negativos y falsos positivos, en este caso el valor es bastante alto en ambos casos por lo que podemos determinar que es un modelo efectivo."
   ]
  }
 ],
 "metadata": {
  "interpreter": {
   "hash": "7b8ce01d0ae580b09df6d1c6c8af4d5260b848c4e1bb6da79002f1aee5cab5e3"
  },
  "kernelspec": {
   "display_name": "Python 3.8.1 32-bit",
   "language": "python",
   "name": "python3"
  },
  "language_info": {
   "codemirror_mode": {
    "name": "ipython",
    "version": 3
   },
   "file_extension": ".py",
   "mimetype": "text/x-python",
   "name": "python",
   "nbconvert_exporter": "python",
   "pygments_lexer": "ipython3",
   "version": "3.8.1"
  },
  "orig_nbformat": 4
 },
 "nbformat": 4,
 "nbformat_minor": 2
}
