{
 "cells": [
  {
   "cell_type": "markdown",
   "metadata": {
    "collapsed": true,
    "pycharm": {
     "name": "#%% md\n"
    }
   },
   "source": [
    "## Exploración de datos\n",
    "Para el laboratorio se proporcionan dos datasets distintos. Revise la data y realice las operaciones\n",
    "necesarias para unificar los datasets y que el dataset contenga el mensaje del correo y la etiqueta que\n",
    "indique si es SPAM o no.\n",
    "Muestre ejemplos de los datasets individuales y del dataset final."
   ]
  },
  {
   "cell_type": "code",
   "execution_count": 157,
   "outputs": [],
   "source": [
    "from nltk.stem import WordNetLemmatizer\n",
    "from nltk.stem.porter import PorterStemmer\n",
    "import pandas as pd\n",
    "import re\n",
    "import string\n",
    "import nltk\n",
    "\n",
    "stopwords = nltk.corpus.stopwords.words('english')\n",
    "porter_stemmer = PorterStemmer()\n",
    "wordnet_lemmatizer = WordNetLemmatizer()\n",
    "\n",
    "def remove_punctuation(text):\n",
    "    return \"\".join([i for i in str(text) if i not in string.punctuation and i != '' and i != '\\n'])\n",
    "\n",
    "def tokenization(text):\n",
    "    tokens = re.split(' ',text)\n",
    "    return [i for i in tokens if i != '']\n",
    "\n",
    "def remove_stopwords(text):\n",
    "    return [i for i in text if i not in stopwords]\n",
    "\n",
    "def stemming(text):\n",
    "    return [porter_stemmer.stem(word) for word in text]\n",
    "\n",
    "def lemmatizer(text):\n",
    "    return [wordnet_lemmatizer.lemmatize(word) for word in text]"
   ],
   "metadata": {
    "collapsed": false,
    "pycharm": {
     "name": "#%%\n"
    }
   }
  },
  {
   "cell_type": "code",
   "source": [
    "df_1 = pd.read_csv('completeSpamAssassin.csv')\n",
    "df_2 = pd.read_csv('enronSpamSubset.csv')\n",
    "\n",
    "# Removed non significant columns which give us no relevant information\n",
    "df_1.drop(columns='Unnamed: 0', inplace=True)\n",
    "df_2.drop(columns=['Unnamed: 0', 'Unnamed: 0.1'], inplace=True)"
   ],
   "metadata": {
    "collapsed": false,
    "pycharm": {
     "name": "#%%\n"
    }
   },
   "execution_count": 158,
   "outputs": []
  },
  {
   "cell_type": "code",
   "execution_count": 159,
   "outputs": [
    {
     "data": {
      "text/plain": "                                                   Body  Label\n0     \\nSave up to 70% on Life Insurance.\\nWhy Spend...      1\n1     1) Fight The Risk of Cancer!\\nhttp://www.adcli...      1\n2     1) Fight The Risk of Cancer!\\nhttp://www.adcli...      1\n3     ##############################################...      1\n4     I thought you might like these:\\n1) Slim Down ...      1\n...                                                 ...    ...\n6041                                              empty      0\n6042                    ___           ___           ...      0\n6043  IN THIS ISSUE:01. Readers write\\n02. Extension...      0\n6044                                              empty      0\n6045                                              empty      0\n\n[6046 rows x 2 columns]",
      "text/html": "<div>\n<style scoped>\n    .dataframe tbody tr th:only-of-type {\n        vertical-align: middle;\n    }\n\n    .dataframe tbody tr th {\n        vertical-align: top;\n    }\n\n    .dataframe thead th {\n        text-align: right;\n    }\n</style>\n<table border=\"1\" class=\"dataframe\">\n  <thead>\n    <tr style=\"text-align: right;\">\n      <th></th>\n      <th>Body</th>\n      <th>Label</th>\n    </tr>\n  </thead>\n  <tbody>\n    <tr>\n      <th>0</th>\n      <td>\\nSave up to 70% on Life Insurance.\\nWhy Spend...</td>\n      <td>1</td>\n    </tr>\n    <tr>\n      <th>1</th>\n      <td>1) Fight The Risk of Cancer!\\nhttp://www.adcli...</td>\n      <td>1</td>\n    </tr>\n    <tr>\n      <th>2</th>\n      <td>1) Fight The Risk of Cancer!\\nhttp://www.adcli...</td>\n      <td>1</td>\n    </tr>\n    <tr>\n      <th>3</th>\n      <td>##############################################...</td>\n      <td>1</td>\n    </tr>\n    <tr>\n      <th>4</th>\n      <td>I thought you might like these:\\n1) Slim Down ...</td>\n      <td>1</td>\n    </tr>\n    <tr>\n      <th>...</th>\n      <td>...</td>\n      <td>...</td>\n    </tr>\n    <tr>\n      <th>6041</th>\n      <td>empty</td>\n      <td>0</td>\n    </tr>\n    <tr>\n      <th>6042</th>\n      <td>___           ___           ...</td>\n      <td>0</td>\n    </tr>\n    <tr>\n      <th>6043</th>\n      <td>IN THIS ISSUE:01. Readers write\\n02. Extension...</td>\n      <td>0</td>\n    </tr>\n    <tr>\n      <th>6044</th>\n      <td>empty</td>\n      <td>0</td>\n    </tr>\n    <tr>\n      <th>6045</th>\n      <td>empty</td>\n      <td>0</td>\n    </tr>\n  </tbody>\n</table>\n<p>6046 rows × 2 columns</p>\n</div>"
     },
     "execution_count": 159,
     "metadata": {},
     "output_type": "execute_result"
    }
   ],
   "source": [
    "df_1"
   ],
   "metadata": {
    "collapsed": false,
    "pycharm": {
     "name": "#%%\n"
    }
   }
  },
  {
   "cell_type": "code",
   "execution_count": 160,
   "outputs": [
    {
     "data": {
      "text/plain": "                                                   Body  Label\n0     Subject: stock promo mover : cwtd\\n * * * urge...      1\n1     Subject: are you listed in major search engine...      1\n2     Subject: important information thu , 30 jun 20...      1\n3     Subject: = ? utf - 8 ? q ? bask your life with...      1\n4     Subject: \" bidstogo \" is places to go , things...      1\n...                                                 ...    ...\n9995  Subject: monday 22 nd oct\\n louise ,\\n do you ...      0\n9996  Subject: missing bloomberg deals\\n stephanie -...      0\n9997  Subject: eops salary survey questionnaire\\n we...      0\n9998  Subject: q 3 comparison\\n hi louise ,\\n i have...      0\n9999  Subject: confidential folder to safely pass in...      0\n\n[10000 rows x 2 columns]",
      "text/html": "<div>\n<style scoped>\n    .dataframe tbody tr th:only-of-type {\n        vertical-align: middle;\n    }\n\n    .dataframe tbody tr th {\n        vertical-align: top;\n    }\n\n    .dataframe thead th {\n        text-align: right;\n    }\n</style>\n<table border=\"1\" class=\"dataframe\">\n  <thead>\n    <tr style=\"text-align: right;\">\n      <th></th>\n      <th>Body</th>\n      <th>Label</th>\n    </tr>\n  </thead>\n  <tbody>\n    <tr>\n      <th>0</th>\n      <td>Subject: stock promo mover : cwtd\\n * * * urge...</td>\n      <td>1</td>\n    </tr>\n    <tr>\n      <th>1</th>\n      <td>Subject: are you listed in major search engine...</td>\n      <td>1</td>\n    </tr>\n    <tr>\n      <th>2</th>\n      <td>Subject: important information thu , 30 jun 20...</td>\n      <td>1</td>\n    </tr>\n    <tr>\n      <th>3</th>\n      <td>Subject: = ? utf - 8 ? q ? bask your life with...</td>\n      <td>1</td>\n    </tr>\n    <tr>\n      <th>4</th>\n      <td>Subject: \" bidstogo \" is places to go , things...</td>\n      <td>1</td>\n    </tr>\n    <tr>\n      <th>...</th>\n      <td>...</td>\n      <td>...</td>\n    </tr>\n    <tr>\n      <th>9995</th>\n      <td>Subject: monday 22 nd oct\\n louise ,\\n do you ...</td>\n      <td>0</td>\n    </tr>\n    <tr>\n      <th>9996</th>\n      <td>Subject: missing bloomberg deals\\n stephanie -...</td>\n      <td>0</td>\n    </tr>\n    <tr>\n      <th>9997</th>\n      <td>Subject: eops salary survey questionnaire\\n we...</td>\n      <td>0</td>\n    </tr>\n    <tr>\n      <th>9998</th>\n      <td>Subject: q 3 comparison\\n hi louise ,\\n i have...</td>\n      <td>0</td>\n    </tr>\n    <tr>\n      <th>9999</th>\n      <td>Subject: confidential folder to safely pass in...</td>\n      <td>0</td>\n    </tr>\n  </tbody>\n</table>\n<p>10000 rows × 2 columns</p>\n</div>"
     },
     "execution_count": 160,
     "metadata": {},
     "output_type": "execute_result"
    }
   ],
   "source": [
    "df_2"
   ],
   "metadata": {
    "collapsed": false,
    "pycharm": {
     "name": "#%%\n"
    }
   }
  },
  {
   "cell_type": "code",
   "execution_count": 161,
   "outputs": [
    {
     "data": {
      "text/plain": "                                                    Body  Label\n0      \\nSave up to 70% on Life Insurance.\\nWhy Spend...      1\n1      1) Fight The Risk of Cancer!\\nhttp://www.adcli...      1\n2      1) Fight The Risk of Cancer!\\nhttp://www.adcli...      1\n3      ##############################################...      1\n4      I thought you might like these:\\n1) Slim Down ...      1\n...                                                  ...    ...\n16041  Subject: monday 22 nd oct\\n louise ,\\n do you ...      0\n16042  Subject: missing bloomberg deals\\n stephanie -...      0\n16043  Subject: eops salary survey questionnaire\\n we...      0\n16044  Subject: q 3 comparison\\n hi louise ,\\n i have...      0\n16045  Subject: confidential folder to safely pass in...      0\n\n[16046 rows x 2 columns]",
      "text/html": "<div>\n<style scoped>\n    .dataframe tbody tr th:only-of-type {\n        vertical-align: middle;\n    }\n\n    .dataframe tbody tr th {\n        vertical-align: top;\n    }\n\n    .dataframe thead th {\n        text-align: right;\n    }\n</style>\n<table border=\"1\" class=\"dataframe\">\n  <thead>\n    <tr style=\"text-align: right;\">\n      <th></th>\n      <th>Body</th>\n      <th>Label</th>\n    </tr>\n  </thead>\n  <tbody>\n    <tr>\n      <th>0</th>\n      <td>\\nSave up to 70% on Life Insurance.\\nWhy Spend...</td>\n      <td>1</td>\n    </tr>\n    <tr>\n      <th>1</th>\n      <td>1) Fight The Risk of Cancer!\\nhttp://www.adcli...</td>\n      <td>1</td>\n    </tr>\n    <tr>\n      <th>2</th>\n      <td>1) Fight The Risk of Cancer!\\nhttp://www.adcli...</td>\n      <td>1</td>\n    </tr>\n    <tr>\n      <th>3</th>\n      <td>##############################################...</td>\n      <td>1</td>\n    </tr>\n    <tr>\n      <th>4</th>\n      <td>I thought you might like these:\\n1) Slim Down ...</td>\n      <td>1</td>\n    </tr>\n    <tr>\n      <th>...</th>\n      <td>...</td>\n      <td>...</td>\n    </tr>\n    <tr>\n      <th>16041</th>\n      <td>Subject: monday 22 nd oct\\n louise ,\\n do you ...</td>\n      <td>0</td>\n    </tr>\n    <tr>\n      <th>16042</th>\n      <td>Subject: missing bloomberg deals\\n stephanie -...</td>\n      <td>0</td>\n    </tr>\n    <tr>\n      <th>16043</th>\n      <td>Subject: eops salary survey questionnaire\\n we...</td>\n      <td>0</td>\n    </tr>\n    <tr>\n      <th>16044</th>\n      <td>Subject: q 3 comparison\\n hi louise ,\\n i have...</td>\n      <td>0</td>\n    </tr>\n    <tr>\n      <th>16045</th>\n      <td>Subject: confidential folder to safely pass in...</td>\n      <td>0</td>\n    </tr>\n  </tbody>\n</table>\n<p>16046 rows × 2 columns</p>\n</div>"
     },
     "execution_count": 161,
     "metadata": {},
     "output_type": "execute_result"
    }
   ],
   "source": [
    "combined_df = pd.concat([df_1, df_2])\n",
    "combined_df.index = range(combined_df.shape[0])\n",
    "combined_df"
   ],
   "metadata": {
    "collapsed": false,
    "pycharm": {
     "name": "#%%\n"
    }
   }
  },
  {
   "cell_type": "markdown",
   "source": [
    "## Preprocesamiento\n",
    "Aplique las técnicas de pre – procesamiento de lenguaje natural que considere necesarias (conversión\n",
    "de minúsculas, mayúsculas, eliminación de acentos, expansión de contracciones, eliminación de stop\n",
    "words, etc.)"
   ],
   "metadata": {
    "collapsed": false,
    "pycharm": {
     "name": "#%% md\n"
    }
   }
  },
  {
   "cell_type": "code",
   "execution_count": 162,
   "outputs": [
    {
     "data": {
      "text/plain": "0    Save up to 70 on Life InsuranceWhy Spend More ...\n1    1 Fight The Risk of Cancerhttpwwwadclickwspcfm...\n2    1 Fight The Risk of Cancerhttpwwwadclickwspcfm...\n3                                                  ...\n4    I thought you might like these1 Slim Down  Gua...\nName: No_Punctuation_Body, dtype: object"
     },
     "execution_count": 162,
     "metadata": {},
     "output_type": "execute_result"
    }
   ],
   "source": [
    "# Punctuation Removal\n",
    "combined_df['No_Punctuation_Body']= combined_df['Body'].apply(lambda x:remove_punctuation(x))\n",
    "combined_df['No_Punctuation_Body'].head()"
   ],
   "metadata": {
    "collapsed": false,
    "pycharm": {
     "name": "#%%\n"
    }
   }
  },
  {
   "cell_type": "code",
   "execution_count": 163,
   "outputs": [
    {
     "data": {
      "text/plain": "0    save up to 70 on life insurancewhy spend more ...\n1    1 fight the risk of cancerhttpwwwadclickwspcfm...\n2    1 fight the risk of cancerhttpwwwadclickwspcfm...\n3                                                  ...\n4    i thought you might like these1 slim down  gua...\nName: Lowered_Case_Body, dtype: object"
     },
     "execution_count": 163,
     "metadata": {},
     "output_type": "execute_result"
    }
   ],
   "source": [
    "# Text lowering\n",
    "combined_df['Lowered_Case_Body']= combined_df['No_Punctuation_Body'].apply(lambda x: x.lower())\n",
    "combined_df['Lowered_Case_Body'].head()"
   ],
   "metadata": {
    "collapsed": false,
    "pycharm": {
     "name": "#%%\n"
    }
   }
  },
  {
   "cell_type": "code",
   "execution_count": 164,
   "outputs": [
    {
     "data": {
      "text/plain": "0    [save, up, to, 70, on, life, insurancewhy, spe...\n1    [1, fight, the, risk, of, cancerhttpwwwadclick...\n2    [1, fight, the, risk, of, cancerhttpwwwadclick...\n3    [adult, club, offers, free, membership, instan...\n4    [i, thought, you, might, like, these1, slim, d...\nName: Tokenized_Body, dtype: object"
     },
     "execution_count": 164,
     "metadata": {},
     "output_type": "execute_result"
    }
   ],
   "source": [
    "# Tokenization\n",
    "combined_df['Tokenized_Body']= combined_df['Lowered_Case_Body'].apply(lambda x: tokenization(x))\n",
    "combined_df['Tokenized_Body'].head()"
   ],
   "metadata": {
    "collapsed": false,
    "pycharm": {
     "name": "#%%\n"
    }
   }
  },
  {
   "cell_type": "code",
   "execution_count": 165,
   "outputs": [
    {
     "data": {
      "text/plain": "0    [save, 70, life, insurancewhy, spend, tolife, ...\n1    [1, fight, risk, cancerhttpwwwadclickwspcfmo31...\n2    [1, fight, risk, cancerhttpwwwadclickwspcfmo31...\n3    [adult, club, offers, free, membership, instan...\n4    [thought, might, like, these1, slim, guarantee...\nName: No_StopWords_Body, dtype: object"
     },
     "execution_count": 165,
     "metadata": {},
     "output_type": "execute_result"
    }
   ],
   "source": [
    "# Stop Words Removal\n",
    "combined_df['No_StopWords_Body'] = combined_df['Tokenized_Body'].apply(lambda x:remove_stopwords(x))\n",
    "combined_df['No_StopWords_Body'].head()"
   ],
   "metadata": {
    "collapsed": false,
    "pycharm": {
     "name": "#%%\n"
    }
   }
  },
  {
   "cell_type": "code",
   "execution_count": 167,
   "outputs": [
    {
     "data": {
      "text/plain": "0    [save, 70, life, insurancewhi, spend, tolif, q...\n1    [1, fight, risk, cancerhttpwwwadclickwspcfmo31...\n2    [1, fight, risk, cancerhttpwwwadclickwspcfmo31...\n3    [adult, club, offer, free, membership, instant...\n4    [thought, might, like, these1, slim, guarante,...\nName: Stemmed_Body, dtype: object"
     },
     "execution_count": 167,
     "metadata": {},
     "output_type": "execute_result"
    }
   ],
   "source": [
    "# Stemming\n",
    "combined_df['Stemmed_Body'] = combined_df['No_StopWords_Body'].apply(lambda x: stemming(x))\n",
    "combined_df['Stemmed_Body'].head()"
   ],
   "metadata": {
    "collapsed": false,
    "pycharm": {
     "name": "#%%\n"
    }
   }
  },
  {
   "cell_type": "code",
   "execution_count": 174,
   "outputs": [
    {
     "data": {
      "text/plain": "0    [save, 70, life, insurancewhy, spend, tolife, ...\n1    [1, fight, risk, cancerhttpwwwadclickwspcfmo31...\n2    [1, fight, risk, cancerhttpwwwadclickwspcfmo31...\n3    [adult, club, offer, free, membership, instant...\n4    [thought, might, like, these1, slim, guarantee...\nName: Lemmatized_Body, dtype: object"
     },
     "execution_count": 174,
     "metadata": {},
     "output_type": "execute_result"
    }
   ],
   "source": [
    "# Lemmatisation\n",
    "combined_df['Lemmatized_Body']= combined_df['No_StopWords_Body'].apply(lambda x:lemmatizer(x))\n",
    "combined_df['Lemmatized_Body'].head()"
   ],
   "metadata": {
    "collapsed": false,
    "pycharm": {
     "name": "#%%\n"
    }
   }
  },
  {
   "cell_type": "code",
   "execution_count": 175,
   "outputs": [
    {
     "data": {
      "text/plain": "                                                Body  Label  \\\n0  \\nSave up to 70% on Life Insurance.\\nWhy Spend...      1   \n1  1) Fight The Risk of Cancer!\\nhttp://www.adcli...      1   \n2  1) Fight The Risk of Cancer!\\nhttp://www.adcli...      1   \n3  ##############################################...      1   \n4  I thought you might like these:\\n1) Slim Down ...      1   \n\n                                 No_Punctuation_Body  \\\n0  Save up to 70 on Life InsuranceWhy Spend More ...   \n1  1 Fight The Risk of Cancerhttpwwwadclickwspcfm...   \n2  1 Fight The Risk of Cancerhttpwwwadclickwspcfm...   \n3                                                ...   \n4  I thought you might like these1 Slim Down  Gua...   \n\n                                   Lowered_Case_Body  \\\n0  save up to 70 on life insurancewhy spend more ...   \n1  1 fight the risk of cancerhttpwwwadclickwspcfm...   \n2  1 fight the risk of cancerhttpwwwadclickwspcfm...   \n3                                                ...   \n4  i thought you might like these1 slim down  gua...   \n\n                                      Tokenized_Body  \\\n0  [save, up, to, 70, on, life, insurancewhy, spe...   \n1  [1, fight, the, risk, of, cancerhttpwwwadclick...   \n2  [1, fight, the, risk, of, cancerhttpwwwadclick...   \n3  [adult, club, offers, free, membership, instan...   \n4  [i, thought, you, might, like, these1, slim, d...   \n\n                                   No_StopWords_Body  \\\n0  [save, 70, life, insurancewhy, spend, tolife, ...   \n1  [1, fight, risk, cancerhttpwwwadclickwspcfmo31...   \n2  [1, fight, risk, cancerhttpwwwadclickwspcfmo31...   \n3  [adult, club, offers, free, membership, instan...   \n4  [thought, might, like, these1, slim, guarantee...   \n\n                                        Stemmed_Body  \\\n0  [save, 70, life, insurancewhi, spend, tolif, q...   \n1  [1, fight, risk, cancerhttpwwwadclickwspcfmo31...   \n2  [1, fight, risk, cancerhttpwwwadclickwspcfmo31...   \n3  [adult, club, offer, free, membership, instant...   \n4  [thought, might, like, these1, slim, guarante,...   \n\n                                     Lemmatized_Body  \n0  [save, 70, life, insurancewhy, spend, tolife, ...  \n1  [1, fight, risk, cancerhttpwwwadclickwspcfmo31...  \n2  [1, fight, risk, cancerhttpwwwadclickwspcfmo31...  \n3  [adult, club, offer, free, membership, instant...  \n4  [thought, might, like, these1, slim, guarantee...  ",
      "text/html": "<div>\n<style scoped>\n    .dataframe tbody tr th:only-of-type {\n        vertical-align: middle;\n    }\n\n    .dataframe tbody tr th {\n        vertical-align: top;\n    }\n\n    .dataframe thead th {\n        text-align: right;\n    }\n</style>\n<table border=\"1\" class=\"dataframe\">\n  <thead>\n    <tr style=\"text-align: right;\">\n      <th></th>\n      <th>Body</th>\n      <th>Label</th>\n      <th>No_Punctuation_Body</th>\n      <th>Lowered_Case_Body</th>\n      <th>Tokenized_Body</th>\n      <th>No_StopWords_Body</th>\n      <th>Stemmed_Body</th>\n      <th>Lemmatized_Body</th>\n    </tr>\n  </thead>\n  <tbody>\n    <tr>\n      <th>0</th>\n      <td>\\nSave up to 70% on Life Insurance.\\nWhy Spend...</td>\n      <td>1</td>\n      <td>Save up to 70 on Life InsuranceWhy Spend More ...</td>\n      <td>save up to 70 on life insurancewhy spend more ...</td>\n      <td>[save, up, to, 70, on, life, insurancewhy, spe...</td>\n      <td>[save, 70, life, insurancewhy, spend, tolife, ...</td>\n      <td>[save, 70, life, insurancewhi, spend, tolif, q...</td>\n      <td>[save, 70, life, insurancewhy, spend, tolife, ...</td>\n    </tr>\n    <tr>\n      <th>1</th>\n      <td>1) Fight The Risk of Cancer!\\nhttp://www.adcli...</td>\n      <td>1</td>\n      <td>1 Fight The Risk of Cancerhttpwwwadclickwspcfm...</td>\n      <td>1 fight the risk of cancerhttpwwwadclickwspcfm...</td>\n      <td>[1, fight, the, risk, of, cancerhttpwwwadclick...</td>\n      <td>[1, fight, risk, cancerhttpwwwadclickwspcfmo31...</td>\n      <td>[1, fight, risk, cancerhttpwwwadclickwspcfmo31...</td>\n      <td>[1, fight, risk, cancerhttpwwwadclickwspcfmo31...</td>\n    </tr>\n    <tr>\n      <th>2</th>\n      <td>1) Fight The Risk of Cancer!\\nhttp://www.adcli...</td>\n      <td>1</td>\n      <td>1 Fight The Risk of Cancerhttpwwwadclickwspcfm...</td>\n      <td>1 fight the risk of cancerhttpwwwadclickwspcfm...</td>\n      <td>[1, fight, the, risk, of, cancerhttpwwwadclick...</td>\n      <td>[1, fight, risk, cancerhttpwwwadclickwspcfmo31...</td>\n      <td>[1, fight, risk, cancerhttpwwwadclickwspcfmo31...</td>\n      <td>[1, fight, risk, cancerhttpwwwadclickwspcfmo31...</td>\n    </tr>\n    <tr>\n      <th>3</th>\n      <td>##############################################...</td>\n      <td>1</td>\n      <td>...</td>\n      <td>...</td>\n      <td>[adult, club, offers, free, membership, instan...</td>\n      <td>[adult, club, offers, free, membership, instan...</td>\n      <td>[adult, club, offer, free, membership, instant...</td>\n      <td>[adult, club, offer, free, membership, instant...</td>\n    </tr>\n    <tr>\n      <th>4</th>\n      <td>I thought you might like these:\\n1) Slim Down ...</td>\n      <td>1</td>\n      <td>I thought you might like these1 Slim Down  Gua...</td>\n      <td>i thought you might like these1 slim down  gua...</td>\n      <td>[i, thought, you, might, like, these1, slim, d...</td>\n      <td>[thought, might, like, these1, slim, guarantee...</td>\n      <td>[thought, might, like, these1, slim, guarante,...</td>\n      <td>[thought, might, like, these1, slim, guarantee...</td>\n    </tr>\n  </tbody>\n</table>\n</div>"
     },
     "execution_count": 175,
     "metadata": {},
     "output_type": "execute_result"
    }
   ],
   "source": [
    "combined_df.head()"
   ],
   "metadata": {
    "collapsed": false,
    "pycharm": {
     "name": "#%%\n"
    }
   }
  }
 ],
 "metadata": {
  "kernelspec": {
   "display_name": "Python 3",
   "language": "python",
   "name": "python3"
  },
  "language_info": {
   "codemirror_mode": {
    "name": "ipython",
    "version": 2
   },
   "file_extension": ".py",
   "mimetype": "text/x-python",
   "name": "python",
   "nbconvert_exporter": "python",
   "pygments_lexer": "ipython2",
   "version": "2.7.6"
  }
 },
 "nbformat": 4,
 "nbformat_minor": 0
}