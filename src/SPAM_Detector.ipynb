{
 "cells": [
  {
   "cell_type": "markdown",
   "metadata": {
    "collapsed": true,
    "pycharm": {
     "name": "#%% md\n"
    }
   },
   "source": [
    "## Exploración de datos\n",
    "Para el laboratorio se proporcionan dos datasets distintos. Revise la data y realice las operaciones\n",
    "necesarias para unificar los datasets y que el dataset contenga el mensaje del correo y la etiqueta que\n",
    "indique si es SPAM o no.\n",
    "Muestre ejemplos de los datasets individuales y del dataset final."
   ]
  },
  {
   "cell_type": "code",
   "execution_count": 53,
   "outputs": [],
   "source": [
    "from sklearn.feature_extraction.text import CountVectorizer\n",
    "from sklearn.feature_extraction.text import TfidfVectorizer\n",
    "import pandas as pd\n",
    "import numpy as np\n",
    "import string\n",
    "import nltk\n",
    "\n",
    "stopwords = nltk.corpus.stopwords.words('english')\n",
    "punctuation = [i for i in (string.punctuation + \"\\n\")]\n",
    "\n",
    "def remove_punctuation(text):\n",
    "    no_punctuation_text = str(text).lower()\n",
    "    for i in punctuation:\n",
    "        no_punctuation_text = no_punctuation_text.replace(i, ' ')\n",
    "\n",
    "    return no_punctuation_text.split()\n",
    "\n",
    "def remove_stopwords(text):\n",
    "    return [i for i in text if i not in stopwords]\n",
    "\n",
    "def generate_body(words):\n",
    "    tokens = [token for token in words]\n",
    "    return ' '.join(tokens)"
   ],
   "metadata": {
    "collapsed": false,
    "pycharm": {
     "name": "#%%\n"
    }
   }
  },
  {
   "cell_type": "code",
   "source": [
    "df_1 = pd.read_csv('completeSpamAssassin.csv')\n",
    "df_2 = pd.read_csv('enronSpamSubset.csv')\n",
    "\n",
    "# Removed non significant columns which give us no relevant information\n",
    "df_1.drop(columns='Unnamed: 0', inplace=True)\n",
    "df_2.drop(columns=['Unnamed: 0', 'Unnamed: 0.1'], inplace=True)"
   ],
   "metadata": {
    "collapsed": false,
    "pycharm": {
     "name": "#%%\n"
    }
   },
   "execution_count": 54,
   "outputs": []
  },
  {
   "cell_type": "code",
   "execution_count": 55,
   "outputs": [
    {
     "data": {
      "text/plain": "                                                   Body  Label\n0     \\nSave up to 70% on Life Insurance.\\nWhy Spend...      1\n1     1) Fight The Risk of Cancer!\\nhttp://www.adcli...      1\n2     1) Fight The Risk of Cancer!\\nhttp://www.adcli...      1\n3     ##############################################...      1\n4     I thought you might like these:\\n1) Slim Down ...      1\n...                                                 ...    ...\n6041                                              empty      0\n6042                    ___           ___           ...      0\n6043  IN THIS ISSUE:01. Readers write\\n02. Extension...      0\n6044                                              empty      0\n6045                                              empty      0\n\n[6046 rows x 2 columns]",
      "text/html": "<div>\n<style scoped>\n    .dataframe tbody tr th:only-of-type {\n        vertical-align: middle;\n    }\n\n    .dataframe tbody tr th {\n        vertical-align: top;\n    }\n\n    .dataframe thead th {\n        text-align: right;\n    }\n</style>\n<table border=\"1\" class=\"dataframe\">\n  <thead>\n    <tr style=\"text-align: right;\">\n      <th></th>\n      <th>Body</th>\n      <th>Label</th>\n    </tr>\n  </thead>\n  <tbody>\n    <tr>\n      <th>0</th>\n      <td>\\nSave up to 70% on Life Insurance.\\nWhy Spend...</td>\n      <td>1</td>\n    </tr>\n    <tr>\n      <th>1</th>\n      <td>1) Fight The Risk of Cancer!\\nhttp://www.adcli...</td>\n      <td>1</td>\n    </tr>\n    <tr>\n      <th>2</th>\n      <td>1) Fight The Risk of Cancer!\\nhttp://www.adcli...</td>\n      <td>1</td>\n    </tr>\n    <tr>\n      <th>3</th>\n      <td>##############################################...</td>\n      <td>1</td>\n    </tr>\n    <tr>\n      <th>4</th>\n      <td>I thought you might like these:\\n1) Slim Down ...</td>\n      <td>1</td>\n    </tr>\n    <tr>\n      <th>...</th>\n      <td>...</td>\n      <td>...</td>\n    </tr>\n    <tr>\n      <th>6041</th>\n      <td>empty</td>\n      <td>0</td>\n    </tr>\n    <tr>\n      <th>6042</th>\n      <td>___           ___           ...</td>\n      <td>0</td>\n    </tr>\n    <tr>\n      <th>6043</th>\n      <td>IN THIS ISSUE:01. Readers write\\n02. Extension...</td>\n      <td>0</td>\n    </tr>\n    <tr>\n      <th>6044</th>\n      <td>empty</td>\n      <td>0</td>\n    </tr>\n    <tr>\n      <th>6045</th>\n      <td>empty</td>\n      <td>0</td>\n    </tr>\n  </tbody>\n</table>\n<p>6046 rows × 2 columns</p>\n</div>"
     },
     "execution_count": 55,
     "metadata": {},
     "output_type": "execute_result"
    }
   ],
   "source": [
    "df_1"
   ],
   "metadata": {
    "collapsed": false,
    "pycharm": {
     "name": "#%%\n"
    }
   }
  },
  {
   "cell_type": "code",
   "execution_count": 56,
   "outputs": [
    {
     "data": {
      "text/plain": "                                                   Body  Label\n0     Subject: stock promo mover : cwtd\\n * * * urge...      1\n1     Subject: are you listed in major search engine...      1\n2     Subject: important information thu , 30 jun 20...      1\n3     Subject: = ? utf - 8 ? q ? bask your life with...      1\n4     Subject: \" bidstogo \" is places to go , things...      1\n...                                                 ...    ...\n9995  Subject: monday 22 nd oct\\n louise ,\\n do you ...      0\n9996  Subject: missing bloomberg deals\\n stephanie -...      0\n9997  Subject: eops salary survey questionnaire\\n we...      0\n9998  Subject: q 3 comparison\\n hi louise ,\\n i have...      0\n9999  Subject: confidential folder to safely pass in...      0\n\n[10000 rows x 2 columns]",
      "text/html": "<div>\n<style scoped>\n    .dataframe tbody tr th:only-of-type {\n        vertical-align: middle;\n    }\n\n    .dataframe tbody tr th {\n        vertical-align: top;\n    }\n\n    .dataframe thead th {\n        text-align: right;\n    }\n</style>\n<table border=\"1\" class=\"dataframe\">\n  <thead>\n    <tr style=\"text-align: right;\">\n      <th></th>\n      <th>Body</th>\n      <th>Label</th>\n    </tr>\n  </thead>\n  <tbody>\n    <tr>\n      <th>0</th>\n      <td>Subject: stock promo mover : cwtd\\n * * * urge...</td>\n      <td>1</td>\n    </tr>\n    <tr>\n      <th>1</th>\n      <td>Subject: are you listed in major search engine...</td>\n      <td>1</td>\n    </tr>\n    <tr>\n      <th>2</th>\n      <td>Subject: important information thu , 30 jun 20...</td>\n      <td>1</td>\n    </tr>\n    <tr>\n      <th>3</th>\n      <td>Subject: = ? utf - 8 ? q ? bask your life with...</td>\n      <td>1</td>\n    </tr>\n    <tr>\n      <th>4</th>\n      <td>Subject: \" bidstogo \" is places to go , things...</td>\n      <td>1</td>\n    </tr>\n    <tr>\n      <th>...</th>\n      <td>...</td>\n      <td>...</td>\n    </tr>\n    <tr>\n      <th>9995</th>\n      <td>Subject: monday 22 nd oct\\n louise ,\\n do you ...</td>\n      <td>0</td>\n    </tr>\n    <tr>\n      <th>9996</th>\n      <td>Subject: missing bloomberg deals\\n stephanie -...</td>\n      <td>0</td>\n    </tr>\n    <tr>\n      <th>9997</th>\n      <td>Subject: eops salary survey questionnaire\\n we...</td>\n      <td>0</td>\n    </tr>\n    <tr>\n      <th>9998</th>\n      <td>Subject: q 3 comparison\\n hi louise ,\\n i have...</td>\n      <td>0</td>\n    </tr>\n    <tr>\n      <th>9999</th>\n      <td>Subject: confidential folder to safely pass in...</td>\n      <td>0</td>\n    </tr>\n  </tbody>\n</table>\n<p>10000 rows × 2 columns</p>\n</div>"
     },
     "execution_count": 56,
     "metadata": {},
     "output_type": "execute_result"
    }
   ],
   "source": [
    "df_2"
   ],
   "metadata": {
    "collapsed": false,
    "pycharm": {
     "name": "#%%\n"
    }
   }
  },
  {
   "cell_type": "code",
   "execution_count": 57,
   "outputs": [
    {
     "data": {
      "text/plain": "                                                    Body  Label\n0      \\nSave up to 70% on Life Insurance.\\nWhy Spend...      1\n1      1) Fight The Risk of Cancer!\\nhttp://www.adcli...      1\n2      1) Fight The Risk of Cancer!\\nhttp://www.adcli...      1\n3      ##############################################...      1\n4      I thought you might like these:\\n1) Slim Down ...      1\n...                                                  ...    ...\n16041  Subject: monday 22 nd oct\\n louise ,\\n do you ...      0\n16042  Subject: missing bloomberg deals\\n stephanie -...      0\n16043  Subject: eops salary survey questionnaire\\n we...      0\n16044  Subject: q 3 comparison\\n hi louise ,\\n i have...      0\n16045  Subject: confidential folder to safely pass in...      0\n\n[16046 rows x 2 columns]",
      "text/html": "<div>\n<style scoped>\n    .dataframe tbody tr th:only-of-type {\n        vertical-align: middle;\n    }\n\n    .dataframe tbody tr th {\n        vertical-align: top;\n    }\n\n    .dataframe thead th {\n        text-align: right;\n    }\n</style>\n<table border=\"1\" class=\"dataframe\">\n  <thead>\n    <tr style=\"text-align: right;\">\n      <th></th>\n      <th>Body</th>\n      <th>Label</th>\n    </tr>\n  </thead>\n  <tbody>\n    <tr>\n      <th>0</th>\n      <td>\\nSave up to 70% on Life Insurance.\\nWhy Spend...</td>\n      <td>1</td>\n    </tr>\n    <tr>\n      <th>1</th>\n      <td>1) Fight The Risk of Cancer!\\nhttp://www.adcli...</td>\n      <td>1</td>\n    </tr>\n    <tr>\n      <th>2</th>\n      <td>1) Fight The Risk of Cancer!\\nhttp://www.adcli...</td>\n      <td>1</td>\n    </tr>\n    <tr>\n      <th>3</th>\n      <td>##############################################...</td>\n      <td>1</td>\n    </tr>\n    <tr>\n      <th>4</th>\n      <td>I thought you might like these:\\n1) Slim Down ...</td>\n      <td>1</td>\n    </tr>\n    <tr>\n      <th>...</th>\n      <td>...</td>\n      <td>...</td>\n    </tr>\n    <tr>\n      <th>16041</th>\n      <td>Subject: monday 22 nd oct\\n louise ,\\n do you ...</td>\n      <td>0</td>\n    </tr>\n    <tr>\n      <th>16042</th>\n      <td>Subject: missing bloomberg deals\\n stephanie -...</td>\n      <td>0</td>\n    </tr>\n    <tr>\n      <th>16043</th>\n      <td>Subject: eops salary survey questionnaire\\n we...</td>\n      <td>0</td>\n    </tr>\n    <tr>\n      <th>16044</th>\n      <td>Subject: q 3 comparison\\n hi louise ,\\n i have...</td>\n      <td>0</td>\n    </tr>\n    <tr>\n      <th>16045</th>\n      <td>Subject: confidential folder to safely pass in...</td>\n      <td>0</td>\n    </tr>\n  </tbody>\n</table>\n<p>16046 rows × 2 columns</p>\n</div>"
     },
     "execution_count": 57,
     "metadata": {},
     "output_type": "execute_result"
    }
   ],
   "source": [
    "combined_df = pd.concat([df_1, df_2])\n",
    "combined_df.index = range(combined_df.shape[0])\n",
    "combined_df"
   ],
   "metadata": {
    "collapsed": false,
    "pycharm": {
     "name": "#%%\n"
    }
   }
  },
  {
   "cell_type": "markdown",
   "source": [
    "## Preprocesamiento\n",
    "Aplique las técnicas de pre – procesamiento de lenguaje natural que considere necesarias (conversión\n",
    "de minúsculas, mayúsculas, eliminación de acentos, expansión de contracciones, eliminación de stop\n",
    "words, etc.)"
   ],
   "metadata": {
    "collapsed": false,
    "pycharm": {
     "name": "#%% md\n"
    }
   }
  },
  {
   "cell_type": "code",
   "execution_count": 58,
   "outputs": [
    {
     "data": {
      "text/plain": "0    [save, up, to, 70, on, life, insurance, why, s...\n1    [1, fight, the, risk, of, cancer, http, www, a...\n2    [1, fight, the, risk, of, cancer, http, www, a...\n3    [adult, club, offers, free, membership, instan...\n4    [i, thought, you, might, like, these, 1, slim,...\nName: No_Punctuation_Body, dtype: object"
     },
     "execution_count": 58,
     "metadata": {},
     "output_type": "execute_result"
    }
   ],
   "source": [
    "# Punctuation Removal & Tokenization\n",
    "combined_df['No_Punctuation_Body']= combined_df['Body'].apply(lambda x:remove_punctuation(x))\n",
    "combined_df['No_Punctuation_Body'].head()"
   ],
   "metadata": {
    "collapsed": false,
    "pycharm": {
     "name": "#%%\n"
    }
   }
  },
  {
   "cell_type": "code",
   "execution_count": 59,
   "outputs": [
    {
     "data": {
      "text/plain": "0    [save, 70, life, insurance, spend, life, quote...\n1    [1, fight, risk, cancer, http, www, adclick, w...\n2    [1, fight, risk, cancer, http, www, adclick, w...\n3    [adult, club, offers, free, membership, instan...\n4    [thought, might, like, 1, slim, guaranteed, lo...\nName: No_StopWords_Body, dtype: object"
     },
     "execution_count": 59,
     "metadata": {},
     "output_type": "execute_result"
    }
   ],
   "source": [
    "# Stop Words Removal\n",
    "combined_df['No_StopWords_Body'] = combined_df['No_Punctuation_Body'].apply(lambda x:remove_stopwords(x))\n",
    "combined_df['No_StopWords_Body'].head()"
   ],
   "metadata": {
    "collapsed": false,
    "pycharm": {
     "name": "#%%\n"
    }
   }
  },
  {
   "cell_type": "code",
   "execution_count": 60,
   "outputs": [
    {
     "data": {
      "text/plain": "                                                Body  Label  \\\n0  \\nSave up to 70% on Life Insurance.\\nWhy Spend...      1   \n1  1) Fight The Risk of Cancer!\\nhttp://www.adcli...      1   \n2  1) Fight The Risk of Cancer!\\nhttp://www.adcli...      1   \n3  ##############################################...      1   \n4  I thought you might like these:\\n1) Slim Down ...      1   \n\n                                 No_Punctuation_Body  \\\n0  [save, up, to, 70, on, life, insurance, why, s...   \n1  [1, fight, the, risk, of, cancer, http, www, a...   \n2  [1, fight, the, risk, of, cancer, http, www, a...   \n3  [adult, club, offers, free, membership, instan...   \n4  [i, thought, you, might, like, these, 1, slim,...   \n\n                                   No_StopWords_Body  \n0  [save, 70, life, insurance, spend, life, quote...  \n1  [1, fight, risk, cancer, http, www, adclick, w...  \n2  [1, fight, risk, cancer, http, www, adclick, w...  \n3  [adult, club, offers, free, membership, instan...  \n4  [thought, might, like, 1, slim, guaranteed, lo...  ",
      "text/html": "<div>\n<style scoped>\n    .dataframe tbody tr th:only-of-type {\n        vertical-align: middle;\n    }\n\n    .dataframe tbody tr th {\n        vertical-align: top;\n    }\n\n    .dataframe thead th {\n        text-align: right;\n    }\n</style>\n<table border=\"1\" class=\"dataframe\">\n  <thead>\n    <tr style=\"text-align: right;\">\n      <th></th>\n      <th>Body</th>\n      <th>Label</th>\n      <th>No_Punctuation_Body</th>\n      <th>No_StopWords_Body</th>\n    </tr>\n  </thead>\n  <tbody>\n    <tr>\n      <th>0</th>\n      <td>\\nSave up to 70% on Life Insurance.\\nWhy Spend...</td>\n      <td>1</td>\n      <td>[save, up, to, 70, on, life, insurance, why, s...</td>\n      <td>[save, 70, life, insurance, spend, life, quote...</td>\n    </tr>\n    <tr>\n      <th>1</th>\n      <td>1) Fight The Risk of Cancer!\\nhttp://www.adcli...</td>\n      <td>1</td>\n      <td>[1, fight, the, risk, of, cancer, http, www, a...</td>\n      <td>[1, fight, risk, cancer, http, www, adclick, w...</td>\n    </tr>\n    <tr>\n      <th>2</th>\n      <td>1) Fight The Risk of Cancer!\\nhttp://www.adcli...</td>\n      <td>1</td>\n      <td>[1, fight, the, risk, of, cancer, http, www, a...</td>\n      <td>[1, fight, risk, cancer, http, www, adclick, w...</td>\n    </tr>\n    <tr>\n      <th>3</th>\n      <td>##############################################...</td>\n      <td>1</td>\n      <td>[adult, club, offers, free, membership, instan...</td>\n      <td>[adult, club, offers, free, membership, instan...</td>\n    </tr>\n    <tr>\n      <th>4</th>\n      <td>I thought you might like these:\\n1) Slim Down ...</td>\n      <td>1</td>\n      <td>[i, thought, you, might, like, these, 1, slim,...</td>\n      <td>[thought, might, like, 1, slim, guaranteed, lo...</td>\n    </tr>\n  </tbody>\n</table>\n</div>"
     },
     "execution_count": 60,
     "metadata": {},
     "output_type": "execute_result"
    }
   ],
   "source": [
    "combined_df.head()"
   ],
   "metadata": {
    "collapsed": false,
    "pycharm": {
     "name": "#%%\n"
    }
   }
  },
  {
   "cell_type": "code",
   "execution_count": 61,
   "outputs": [],
   "source": [
    "combined_df['Body'] = combined_df['No_StopWords_Body'].apply(generate_body)\n",
    "combined_df.drop(columns=['No_Punctuation_Body', 'No_StopWords_Body'], inplace=True)"
   ],
   "metadata": {
    "collapsed": false,
    "pycharm": {
     "name": "#%%\n"
    }
   }
  },
  {
   "cell_type": "code",
   "execution_count": 62,
   "outputs": [
    {
     "data": {
      "text/plain": "                                                Body  Label\n0  save 70 life insurance spend life quote saving...      1\n1  1 fight risk cancer http www adclick ws p cfm ...      1\n2  1 fight risk cancer http www adclick ws p cfm ...      1\n3  adult club offers free membership instant acce...      1\n4  thought might like 1 slim guaranteed lose 10 1...      1",
      "text/html": "<div>\n<style scoped>\n    .dataframe tbody tr th:only-of-type {\n        vertical-align: middle;\n    }\n\n    .dataframe tbody tr th {\n        vertical-align: top;\n    }\n\n    .dataframe thead th {\n        text-align: right;\n    }\n</style>\n<table border=\"1\" class=\"dataframe\">\n  <thead>\n    <tr style=\"text-align: right;\">\n      <th></th>\n      <th>Body</th>\n      <th>Label</th>\n    </tr>\n  </thead>\n  <tbody>\n    <tr>\n      <th>0</th>\n      <td>save 70 life insurance spend life quote saving...</td>\n      <td>1</td>\n    </tr>\n    <tr>\n      <th>1</th>\n      <td>1 fight risk cancer http www adclick ws p cfm ...</td>\n      <td>1</td>\n    </tr>\n    <tr>\n      <th>2</th>\n      <td>1 fight risk cancer http www adclick ws p cfm ...</td>\n      <td>1</td>\n    </tr>\n    <tr>\n      <th>3</th>\n      <td>adult club offers free membership instant acce...</td>\n      <td>1</td>\n    </tr>\n    <tr>\n      <th>4</th>\n      <td>thought might like 1 slim guaranteed lose 10 1...</td>\n      <td>1</td>\n    </tr>\n  </tbody>\n</table>\n</div>"
     },
     "execution_count": 62,
     "metadata": {},
     "output_type": "execute_result"
    }
   ],
   "source": [
    "combined_df.head()"
   ],
   "metadata": {
    "collapsed": false,
    "pycharm": {
     "name": "#%%\n"
    }
   }
  },
  {
   "cell_type": "markdown",
   "source": [
    "## Representación de texto\n",
    "Utilice  los  modelos  de  BoG  (para  n  =  1,2)  y  TF-IDF.  Muestre  ejemplos  de  los  mensajes  en  su\n",
    "representación numérica.\n",
    "\n",
    "### Reference\n",
    "https://www.analyticsvidhya.com/blog/2021/07/bag-of-words-vs-tfidf-vectorization-a-hands-on-tutorial/"
   ],
   "metadata": {
    "collapsed": false
   }
  },
  {
   "cell_type": "code",
   "execution_count": 76,
   "outputs": [],
   "source": [
    "# TF-IDF\n",
    "vector = TfidfVectorizer(min_df=0.1, max_df=0.9, use_idf=True)\n",
    "matrix = vector.fit_transform(combined_df['Body'])\n",
    "array = matrix.toarray()"
   ],
   "metadata": {
    "collapsed": false,
    "pycharm": {
     "name": "#%%\n"
    }
   }
  },
  {
   "cell_type": "code",
   "execution_count": 77,
   "outputs": [],
   "source": [
    "names = vector.get_feature_names_out()\n",
    "vector_df = pd.DataFrame(np.round(array, 2), columns=names)"
   ],
   "metadata": {
    "collapsed": false,
    "pycharm": {
     "name": "#%%\n"
    }
   }
  },
  {
   "cell_type": "code",
   "execution_count": 78,
   "outputs": [
    {
     "data": {
      "text/plain": "    00    10   11    12   20  2000  2001  2002    30  also  ...  time  today  \\\n0  0.0  0.00  0.0  0.00  0.0   0.0   0.0   0.0  0.00   0.0  ...   0.0    0.0   \n1  0.0  0.11  0.0  0.13  0.0   0.0   0.0   0.0  0.13   0.0  ...   0.0    0.0   \n2  0.0  0.13  0.0  0.15  0.0   0.0   0.0   0.0  0.16   0.0  ...   0.0    0.0   \n3  0.0  0.00  0.0  0.00  0.0   0.0   0.0   0.0  0.00   0.0  ...   0.0    0.0   \n4  0.0  0.13  0.0  0.15  0.0   0.0   0.0   0.0  0.16   0.0  ...   0.0    0.0   \n\n     us   use  want  way  well  work  would   www  \n0  0.15  0.00   0.0  0.0   0.0   0.0    0.0  0.00  \n1  0.00  0.12   0.0  0.0   0.0   0.0    0.0  0.68  \n2  0.00  0.14   0.0  0.0   0.0   0.0    0.0  0.70  \n3  0.06  0.00   0.0  0.0   0.0   0.0    0.0  0.00  \n4  0.00  0.14   0.0  0.0   0.0   0.0    0.0  0.58  \n\n[5 rows x 63 columns]",
      "text/html": "<div>\n<style scoped>\n    .dataframe tbody tr th:only-of-type {\n        vertical-align: middle;\n    }\n\n    .dataframe tbody tr th {\n        vertical-align: top;\n    }\n\n    .dataframe thead th {\n        text-align: right;\n    }\n</style>\n<table border=\"1\" class=\"dataframe\">\n  <thead>\n    <tr style=\"text-align: right;\">\n      <th></th>\n      <th>00</th>\n      <th>10</th>\n      <th>11</th>\n      <th>12</th>\n      <th>20</th>\n      <th>2000</th>\n      <th>2001</th>\n      <th>2002</th>\n      <th>30</th>\n      <th>also</th>\n      <th>...</th>\n      <th>time</th>\n      <th>today</th>\n      <th>us</th>\n      <th>use</th>\n      <th>want</th>\n      <th>way</th>\n      <th>well</th>\n      <th>work</th>\n      <th>would</th>\n      <th>www</th>\n    </tr>\n  </thead>\n  <tbody>\n    <tr>\n      <th>0</th>\n      <td>0.0</td>\n      <td>0.00</td>\n      <td>0.0</td>\n      <td>0.00</td>\n      <td>0.0</td>\n      <td>0.0</td>\n      <td>0.0</td>\n      <td>0.0</td>\n      <td>0.00</td>\n      <td>0.0</td>\n      <td>...</td>\n      <td>0.0</td>\n      <td>0.0</td>\n      <td>0.15</td>\n      <td>0.00</td>\n      <td>0.0</td>\n      <td>0.0</td>\n      <td>0.0</td>\n      <td>0.0</td>\n      <td>0.0</td>\n      <td>0.00</td>\n    </tr>\n    <tr>\n      <th>1</th>\n      <td>0.0</td>\n      <td>0.11</td>\n      <td>0.0</td>\n      <td>0.13</td>\n      <td>0.0</td>\n      <td>0.0</td>\n      <td>0.0</td>\n      <td>0.0</td>\n      <td>0.13</td>\n      <td>0.0</td>\n      <td>...</td>\n      <td>0.0</td>\n      <td>0.0</td>\n      <td>0.00</td>\n      <td>0.12</td>\n      <td>0.0</td>\n      <td>0.0</td>\n      <td>0.0</td>\n      <td>0.0</td>\n      <td>0.0</td>\n      <td>0.68</td>\n    </tr>\n    <tr>\n      <th>2</th>\n      <td>0.0</td>\n      <td>0.13</td>\n      <td>0.0</td>\n      <td>0.15</td>\n      <td>0.0</td>\n      <td>0.0</td>\n      <td>0.0</td>\n      <td>0.0</td>\n      <td>0.16</td>\n      <td>0.0</td>\n      <td>...</td>\n      <td>0.0</td>\n      <td>0.0</td>\n      <td>0.00</td>\n      <td>0.14</td>\n      <td>0.0</td>\n      <td>0.0</td>\n      <td>0.0</td>\n      <td>0.0</td>\n      <td>0.0</td>\n      <td>0.70</td>\n    </tr>\n    <tr>\n      <th>3</th>\n      <td>0.0</td>\n      <td>0.00</td>\n      <td>0.0</td>\n      <td>0.00</td>\n      <td>0.0</td>\n      <td>0.0</td>\n      <td>0.0</td>\n      <td>0.0</td>\n      <td>0.00</td>\n      <td>0.0</td>\n      <td>...</td>\n      <td>0.0</td>\n      <td>0.0</td>\n      <td>0.06</td>\n      <td>0.00</td>\n      <td>0.0</td>\n      <td>0.0</td>\n      <td>0.0</td>\n      <td>0.0</td>\n      <td>0.0</td>\n      <td>0.00</td>\n    </tr>\n    <tr>\n      <th>4</th>\n      <td>0.0</td>\n      <td>0.13</td>\n      <td>0.0</td>\n      <td>0.15</td>\n      <td>0.0</td>\n      <td>0.0</td>\n      <td>0.0</td>\n      <td>0.0</td>\n      <td>0.16</td>\n      <td>0.0</td>\n      <td>...</td>\n      <td>0.0</td>\n      <td>0.0</td>\n      <td>0.00</td>\n      <td>0.14</td>\n      <td>0.0</td>\n      <td>0.0</td>\n      <td>0.0</td>\n      <td>0.0</td>\n      <td>0.0</td>\n      <td>0.58</td>\n    </tr>\n  </tbody>\n</table>\n<p>5 rows × 63 columns</p>\n</div>"
     },
     "execution_count": 78,
     "metadata": {},
     "output_type": "execute_result"
    }
   ],
   "source": [
    "vector_df.head()"
   ],
   "metadata": {
    "collapsed": false,
    "pycharm": {
     "name": "#%%\n"
    }
   }
  },
  {
   "cell_type": "code",
   "execution_count": 79,
   "outputs": [],
   "source": [
    "# TF-IDF BoG (para n=1,2)\n",
    "vector = CountVectorizer(ngram_range=(1,2), min_df=0.1, max_df=0.9)\n",
    "matrix = vector.fit_transform(combined_df['Body'])\n",
    "array = matrix.toarray()"
   ],
   "metadata": {
    "collapsed": false,
    "pycharm": {
     "name": "#%%\n"
    }
   }
  },
  {
   "cell_type": "code",
   "execution_count": 80,
   "outputs": [],
   "source": [
    "names = vector.get_feature_names_out()\n",
    "vector_df = pd.DataFrame(array, columns=names)"
   ],
   "metadata": {
    "collapsed": false,
    "pycharm": {
     "name": "#%%\n"
    }
   }
  },
  {
   "cell_type": "code",
   "execution_count": 81,
   "outputs": [
    {
     "data": {
      "text/plain": "   00  10  11  12  20  2000  2001  2002  30  also  ...  time  today  us  use  \\\n0   0   0   0   0   0     0     0     0   0     0  ...     0      0   1    0   \n1   0   1   0   1   0     0     0     0   1     0  ...     0      0   0    1   \n2   0   1   0   1   0     0     0     0   1     0  ...     0      0   0    1   \n3   0   0   0   0   0     0     0     0   0     0  ...     0      0   1    0   \n4   0   1   0   1   0     0     0     0   1     0  ...     0      0   0    1   \n\n   want  way  well  work  would  www  \n0     0    0     0     0      0    0  \n1     0    0     0     0      0    7  \n2     0    0     0     0      0    6  \n3     0    0     0     0      0    0  \n4     0    0     0     0      0    5  \n\n[5 rows x 65 columns]",
      "text/html": "<div>\n<style scoped>\n    .dataframe tbody tr th:only-of-type {\n        vertical-align: middle;\n    }\n\n    .dataframe tbody tr th {\n        vertical-align: top;\n    }\n\n    .dataframe thead th {\n        text-align: right;\n    }\n</style>\n<table border=\"1\" class=\"dataframe\">\n  <thead>\n    <tr style=\"text-align: right;\">\n      <th></th>\n      <th>00</th>\n      <th>10</th>\n      <th>11</th>\n      <th>12</th>\n      <th>20</th>\n      <th>2000</th>\n      <th>2001</th>\n      <th>2002</th>\n      <th>30</th>\n      <th>also</th>\n      <th>...</th>\n      <th>time</th>\n      <th>today</th>\n      <th>us</th>\n      <th>use</th>\n      <th>want</th>\n      <th>way</th>\n      <th>well</th>\n      <th>work</th>\n      <th>would</th>\n      <th>www</th>\n    </tr>\n  </thead>\n  <tbody>\n    <tr>\n      <th>0</th>\n      <td>0</td>\n      <td>0</td>\n      <td>0</td>\n      <td>0</td>\n      <td>0</td>\n      <td>0</td>\n      <td>0</td>\n      <td>0</td>\n      <td>0</td>\n      <td>0</td>\n      <td>...</td>\n      <td>0</td>\n      <td>0</td>\n      <td>1</td>\n      <td>0</td>\n      <td>0</td>\n      <td>0</td>\n      <td>0</td>\n      <td>0</td>\n      <td>0</td>\n      <td>0</td>\n    </tr>\n    <tr>\n      <th>1</th>\n      <td>0</td>\n      <td>1</td>\n      <td>0</td>\n      <td>1</td>\n      <td>0</td>\n      <td>0</td>\n      <td>0</td>\n      <td>0</td>\n      <td>1</td>\n      <td>0</td>\n      <td>...</td>\n      <td>0</td>\n      <td>0</td>\n      <td>0</td>\n      <td>1</td>\n      <td>0</td>\n      <td>0</td>\n      <td>0</td>\n      <td>0</td>\n      <td>0</td>\n      <td>7</td>\n    </tr>\n    <tr>\n      <th>2</th>\n      <td>0</td>\n      <td>1</td>\n      <td>0</td>\n      <td>1</td>\n      <td>0</td>\n      <td>0</td>\n      <td>0</td>\n      <td>0</td>\n      <td>1</td>\n      <td>0</td>\n      <td>...</td>\n      <td>0</td>\n      <td>0</td>\n      <td>0</td>\n      <td>1</td>\n      <td>0</td>\n      <td>0</td>\n      <td>0</td>\n      <td>0</td>\n      <td>0</td>\n      <td>6</td>\n    </tr>\n    <tr>\n      <th>3</th>\n      <td>0</td>\n      <td>0</td>\n      <td>0</td>\n      <td>0</td>\n      <td>0</td>\n      <td>0</td>\n      <td>0</td>\n      <td>0</td>\n      <td>0</td>\n      <td>0</td>\n      <td>...</td>\n      <td>0</td>\n      <td>0</td>\n      <td>1</td>\n      <td>0</td>\n      <td>0</td>\n      <td>0</td>\n      <td>0</td>\n      <td>0</td>\n      <td>0</td>\n      <td>0</td>\n    </tr>\n    <tr>\n      <th>4</th>\n      <td>0</td>\n      <td>1</td>\n      <td>0</td>\n      <td>1</td>\n      <td>0</td>\n      <td>0</td>\n      <td>0</td>\n      <td>0</td>\n      <td>1</td>\n      <td>0</td>\n      <td>...</td>\n      <td>0</td>\n      <td>0</td>\n      <td>0</td>\n      <td>1</td>\n      <td>0</td>\n      <td>0</td>\n      <td>0</td>\n      <td>0</td>\n      <td>0</td>\n      <td>5</td>\n    </tr>\n  </tbody>\n</table>\n<p>5 rows × 65 columns</p>\n</div>"
     },
     "execution_count": 81,
     "metadata": {},
     "output_type": "execute_result"
    }
   ],
   "source": [
    "vector_df.head()"
   ],
   "metadata": {
    "collapsed": false,
    "pycharm": {
     "name": "#%%\n"
    }
   }
  }
 ],
 "metadata": {
  "kernelspec": {
   "display_name": "Python 3",
   "language": "python",
   "name": "python3"
  },
  "language_info": {
   "codemirror_mode": {
    "name": "ipython",
    "version": 2
   },
   "file_extension": ".py",
   "mimetype": "text/x-python",
   "name": "python",
   "nbconvert_exporter": "python",
   "pygments_lexer": "ipython2",
   "version": "2.7.6"
  }
 },
 "nbformat": 4,
 "nbformat_minor": 0
}