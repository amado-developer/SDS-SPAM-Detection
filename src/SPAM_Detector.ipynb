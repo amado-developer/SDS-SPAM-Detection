{
 "cells": [
  {
   "cell_type": "markdown",
   "metadata": {
    "collapsed": true,
    "pycharm": {
     "name": "#%% md\n"
    }
   },
   "source": [
    "## Exploración de datos\n",
    "Para el laboratorio se proporcionan dos datasets distintos. Revise la data y realice las operaciones\n",
    "necesarias para unificar los datasets y que el dataset contenga el mensaje del correo y la etiqueta que\n",
    "indique si es SPAM o no.\n",
    "Muestre ejemplos de los datasets individuales y del dataset final."
   ]
  },
  {
   "cell_type": "code",
   "execution_count": 29,
   "outputs": [],
   "source": [
    "import pandas as pd"
   ],
   "metadata": {
    "collapsed": false,
    "pycharm": {
     "name": "#%%\n"
    }
   }
  },
  {
   "cell_type": "code",
   "source": [
    "df_1 = pd.read_csv('completeSpamAssassin.csv')\n",
    "df_2 = pd.read_csv('enronSpamSubset.csv')\n",
    "\n",
    "# Removed non significant columns which give us no relevant information\n",
    "df_1.drop(columns='Unnamed: 0', inplace=True)\n",
    "df_2.drop(columns=['Unnamed: 0', 'Unnamed: 0.1'], inplace=True)"
   ],
   "metadata": {
    "collapsed": false,
    "pycharm": {
     "name": "#%%\n"
    }
   },
   "execution_count": 30,
   "outputs": []
  },
  {
   "cell_type": "code",
   "execution_count": 43,
   "outputs": [
    {
     "data": {
      "text/plain": "                                                   Body  Label\n0     \\nSave up to 70% on Life Insurance.\\nWhy Spend...      1\n1     1) Fight The Risk of Cancer!\\nhttp://www.adcli...      1\n2     1) Fight The Risk of Cancer!\\nhttp://www.adcli...      1\n3     ##############################################...      1\n4     I thought you might like these:\\n1) Slim Down ...      1\n...                                                 ...    ...\n6041                                              empty      0\n6042                    ___           ___           ...      0\n6043  IN THIS ISSUE:01. Readers write\\n02. Extension...      0\n6044                                              empty      0\n6045                                              empty      0\n\n[6046 rows x 2 columns]",
      "text/html": "<div>\n<style scoped>\n    .dataframe tbody tr th:only-of-type {\n        vertical-align: middle;\n    }\n\n    .dataframe tbody tr th {\n        vertical-align: top;\n    }\n\n    .dataframe thead th {\n        text-align: right;\n    }\n</style>\n<table border=\"1\" class=\"dataframe\">\n  <thead>\n    <tr style=\"text-align: right;\">\n      <th></th>\n      <th>Body</th>\n      <th>Label</th>\n    </tr>\n  </thead>\n  <tbody>\n    <tr>\n      <th>0</th>\n      <td>\\nSave up to 70% on Life Insurance.\\nWhy Spend...</td>\n      <td>1</td>\n    </tr>\n    <tr>\n      <th>1</th>\n      <td>1) Fight The Risk of Cancer!\\nhttp://www.adcli...</td>\n      <td>1</td>\n    </tr>\n    <tr>\n      <th>2</th>\n      <td>1) Fight The Risk of Cancer!\\nhttp://www.adcli...</td>\n      <td>1</td>\n    </tr>\n    <tr>\n      <th>3</th>\n      <td>##############################################...</td>\n      <td>1</td>\n    </tr>\n    <tr>\n      <th>4</th>\n      <td>I thought you might like these:\\n1) Slim Down ...</td>\n      <td>1</td>\n    </tr>\n    <tr>\n      <th>...</th>\n      <td>...</td>\n      <td>...</td>\n    </tr>\n    <tr>\n      <th>6041</th>\n      <td>empty</td>\n      <td>0</td>\n    </tr>\n    <tr>\n      <th>6042</th>\n      <td>___           ___           ...</td>\n      <td>0</td>\n    </tr>\n    <tr>\n      <th>6043</th>\n      <td>IN THIS ISSUE:01. Readers write\\n02. Extension...</td>\n      <td>0</td>\n    </tr>\n    <tr>\n      <th>6044</th>\n      <td>empty</td>\n      <td>0</td>\n    </tr>\n    <tr>\n      <th>6045</th>\n      <td>empty</td>\n      <td>0</td>\n    </tr>\n  </tbody>\n</table>\n<p>6046 rows × 2 columns</p>\n</div>"
     },
     "execution_count": 43,
     "metadata": {},
     "output_type": "execute_result"
    }
   ],
   "source": [
    "df_1"
   ],
   "metadata": {
    "collapsed": false,
    "pycharm": {
     "name": "#%%\n"
    }
   }
  },
  {
   "cell_type": "code",
   "execution_count": 44,
   "outputs": [
    {
     "data": {
      "text/plain": "                                                   Body  Label\n0     Subject: stock promo mover : cwtd\\n * * * urge...      1\n1     Subject: are you listed in major search engine...      1\n2     Subject: important information thu , 30 jun 20...      1\n3     Subject: = ? utf - 8 ? q ? bask your life with...      1\n4     Subject: \" bidstogo \" is places to go , things...      1\n...                                                 ...    ...\n9995  Subject: monday 22 nd oct\\n louise ,\\n do you ...      0\n9996  Subject: missing bloomberg deals\\n stephanie -...      0\n9997  Subject: eops salary survey questionnaire\\n we...      0\n9998  Subject: q 3 comparison\\n hi louise ,\\n i have...      0\n9999  Subject: confidential folder to safely pass in...      0\n\n[10000 rows x 2 columns]",
      "text/html": "<div>\n<style scoped>\n    .dataframe tbody tr th:only-of-type {\n        vertical-align: middle;\n    }\n\n    .dataframe tbody tr th {\n        vertical-align: top;\n    }\n\n    .dataframe thead th {\n        text-align: right;\n    }\n</style>\n<table border=\"1\" class=\"dataframe\">\n  <thead>\n    <tr style=\"text-align: right;\">\n      <th></th>\n      <th>Body</th>\n      <th>Label</th>\n    </tr>\n  </thead>\n  <tbody>\n    <tr>\n      <th>0</th>\n      <td>Subject: stock promo mover : cwtd\\n * * * urge...</td>\n      <td>1</td>\n    </tr>\n    <tr>\n      <th>1</th>\n      <td>Subject: are you listed in major search engine...</td>\n      <td>1</td>\n    </tr>\n    <tr>\n      <th>2</th>\n      <td>Subject: important information thu , 30 jun 20...</td>\n      <td>1</td>\n    </tr>\n    <tr>\n      <th>3</th>\n      <td>Subject: = ? utf - 8 ? q ? bask your life with...</td>\n      <td>1</td>\n    </tr>\n    <tr>\n      <th>4</th>\n      <td>Subject: \" bidstogo \" is places to go , things...</td>\n      <td>1</td>\n    </tr>\n    <tr>\n      <th>...</th>\n      <td>...</td>\n      <td>...</td>\n    </tr>\n    <tr>\n      <th>9995</th>\n      <td>Subject: monday 22 nd oct\\n louise ,\\n do you ...</td>\n      <td>0</td>\n    </tr>\n    <tr>\n      <th>9996</th>\n      <td>Subject: missing bloomberg deals\\n stephanie -...</td>\n      <td>0</td>\n    </tr>\n    <tr>\n      <th>9997</th>\n      <td>Subject: eops salary survey questionnaire\\n we...</td>\n      <td>0</td>\n    </tr>\n    <tr>\n      <th>9998</th>\n      <td>Subject: q 3 comparison\\n hi louise ,\\n i have...</td>\n      <td>0</td>\n    </tr>\n    <tr>\n      <th>9999</th>\n      <td>Subject: confidential folder to safely pass in...</td>\n      <td>0</td>\n    </tr>\n  </tbody>\n</table>\n<p>10000 rows × 2 columns</p>\n</div>"
     },
     "execution_count": 44,
     "metadata": {},
     "output_type": "execute_result"
    }
   ],
   "source": [
    "df_2"
   ],
   "metadata": {
    "collapsed": false,
    "pycharm": {
     "name": "#%%\n"
    }
   }
  },
  {
   "cell_type": "code",
   "execution_count": 45,
   "outputs": [
    {
     "data": {
      "text/plain": "                                                    Body  Label\n0      \\nSave up to 70% on Life Insurance.\\nWhy Spend...      1\n1      1) Fight The Risk of Cancer!\\nhttp://www.adcli...      1\n2      1) Fight The Risk of Cancer!\\nhttp://www.adcli...      1\n3      ##############################################...      1\n4      I thought you might like these:\\n1) Slim Down ...      1\n...                                                  ...    ...\n16041  Subject: monday 22 nd oct\\n louise ,\\n do you ...      0\n16042  Subject: missing bloomberg deals\\n stephanie -...      0\n16043  Subject: eops salary survey questionnaire\\n we...      0\n16044  Subject: q 3 comparison\\n hi louise ,\\n i have...      0\n16045  Subject: confidential folder to safely pass in...      0\n\n[16046 rows x 2 columns]",
      "text/html": "<div>\n<style scoped>\n    .dataframe tbody tr th:only-of-type {\n        vertical-align: middle;\n    }\n\n    .dataframe tbody tr th {\n        vertical-align: top;\n    }\n\n    .dataframe thead th {\n        text-align: right;\n    }\n</style>\n<table border=\"1\" class=\"dataframe\">\n  <thead>\n    <tr style=\"text-align: right;\">\n      <th></th>\n      <th>Body</th>\n      <th>Label</th>\n    </tr>\n  </thead>\n  <tbody>\n    <tr>\n      <th>0</th>\n      <td>\\nSave up to 70% on Life Insurance.\\nWhy Spend...</td>\n      <td>1</td>\n    </tr>\n    <tr>\n      <th>1</th>\n      <td>1) Fight The Risk of Cancer!\\nhttp://www.adcli...</td>\n      <td>1</td>\n    </tr>\n    <tr>\n      <th>2</th>\n      <td>1) Fight The Risk of Cancer!\\nhttp://www.adcli...</td>\n      <td>1</td>\n    </tr>\n    <tr>\n      <th>3</th>\n      <td>##############################################...</td>\n      <td>1</td>\n    </tr>\n    <tr>\n      <th>4</th>\n      <td>I thought you might like these:\\n1) Slim Down ...</td>\n      <td>1</td>\n    </tr>\n    <tr>\n      <th>...</th>\n      <td>...</td>\n      <td>...</td>\n    </tr>\n    <tr>\n      <th>16041</th>\n      <td>Subject: monday 22 nd oct\\n louise ,\\n do you ...</td>\n      <td>0</td>\n    </tr>\n    <tr>\n      <th>16042</th>\n      <td>Subject: missing bloomberg deals\\n stephanie -...</td>\n      <td>0</td>\n    </tr>\n    <tr>\n      <th>16043</th>\n      <td>Subject: eops salary survey questionnaire\\n we...</td>\n      <td>0</td>\n    </tr>\n    <tr>\n      <th>16044</th>\n      <td>Subject: q 3 comparison\\n hi louise ,\\n i have...</td>\n      <td>0</td>\n    </tr>\n    <tr>\n      <th>16045</th>\n      <td>Subject: confidential folder to safely pass in...</td>\n      <td>0</td>\n    </tr>\n  </tbody>\n</table>\n<p>16046 rows × 2 columns</p>\n</div>"
     },
     "execution_count": 45,
     "metadata": {},
     "output_type": "execute_result"
    }
   ],
   "source": [
    "combined_df = pd.concat([df_1, df_2])\n",
    "combined_df.index = range(combined_df.shape[0])\n",
    "combined_df"
   ],
   "metadata": {
    "collapsed": false,
    "pycharm": {
     "name": "#%%\n"
    }
   }
  },
  {
   "cell_type": "markdown",
   "source": [],
   "metadata": {
    "collapsed": false,
    "pycharm": {
     "name": "#%% md\n"
    }
   }
  }
 ],
 "metadata": {
  "kernelspec": {
   "display_name": "Python 3",
   "language": "python",
   "name": "python3"
  },
  "language_info": {
   "codemirror_mode": {
    "name": "ipython",
    "version": 2
   },
   "file_extension": ".py",
   "mimetype": "text/x-python",
   "name": "python",
   "nbconvert_exporter": "python",
   "pygments_lexer": "ipython2",
   "version": "2.7.6"
  }
 },
 "nbformat": 4,
 "nbformat_minor": 0
}